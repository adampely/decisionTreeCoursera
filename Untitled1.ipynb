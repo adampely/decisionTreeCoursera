{
 "cells": [
  {
   "cell_type": "code",
   "execution_count": 47,
   "metadata": {
    "collapsed": false
   },
   "outputs": [
    {
     "name": "stdout",
     "output_type": "stream",
     "text": [
      "0.955737704918\n",
      "['BIO_SEX', 'HISPANIC', 'WHITE', 'BLACK', 'NAMERICAN', 'ASIAN', 'age', 'ALCEVR1', 'ALCPROBS1', 'marever1', 'cocever1', 'inhever1', 'cigavail', 'DEP1', 'ESTEEM1', 'VIOL1', 'PASSIST', 'DEVIANT1', 'SCHCONN1', 'GPA1', 'TREG1', 'FAMCONCT', 'PARACTV', 'PARPRES']\n",
      "[ 0.03065378  0.02309693  0.02146323  0.01673483  0.0213768   0.00420204\n",
      "  0.05577681  0.02337412  0.05249267  0.02167367  0.01610226  0.02092556\n",
      "  0.02830616  0.07086874  0.06248402  0.08153353  0.02394419  0.08530085\n",
      "  0.0700426   0.05971651  0.02442437  0.06139526  0.0594855   0.06462558]\n"
     ]
    },
    {
     "data": {
      "text/plain": [
       "[0.085300847468087027,\n",
       " 0.081533529005029595,\n",
       " 0.070868735499308541,\n",
       " 0.070042598381788765,\n",
       " 0.064625583618497712,\n",
       " 0.062484017784207459,\n",
       " 0.061395257503539316,\n",
       " 0.059716505183313576,\n",
       " 0.059485504627771565,\n",
       " 0.055776806322325768,\n",
       " 0.052492669743402408,\n",
       " 0.030653783152221122,\n",
       " 0.028306160297569005,\n",
       " 0.024424369636923803,\n",
       " 0.02394419470635116,\n",
       " 0.023374121176282393,\n",
       " 0.023096925561872986,\n",
       " 0.021673672250161643,\n",
       " 0.021463226080879628,\n",
       " 0.02137680425284106,\n",
       " 0.020925561936557674,\n",
       " 0.016734831937344742,\n",
       " 0.01610225594112525,\n",
       " 0.0042020379325978605]"
      ]
     },
     "execution_count": 47,
     "metadata": {},
     "output_type": "execute_result"
    }
   ],
   "source": [
    "from pandas import Series, DataFrame\n",
    "import pandas as pd\n",
    "import numpy as np\n",
    "import os\n",
    "import matplotlib.pylab as plt\n",
    "from sklearn.cross_validation import train_test_split\n",
    "from sklearn.tree import DecisionTreeClassifier\n",
    "from sklearn.metrics import classification_report\n",
    "import sklearn.metrics\n",
    " # Feature Importance\n",
    "from sklearn import datasets\n",
    "from sklearn.ensemble import ExtraTreesClassifier\n",
    "\n",
    "#Load the dataset\n",
    "\n",
    "AH_data = pd.read_csv(\"tree_addhealth.csv\")\n",
    "data_clean = AH_data.dropna()\n",
    "\n",
    "data_clean.dtypes\n",
    "data_clean.describe()\n",
    "\n",
    "#Split into training and testing sets\n",
    "predictorCats = ['BIO_SEX','HISPANIC','WHITE','BLACK','NAMERICAN','ASIAN','age',\n",
    "'ALCEVR1','ALCPROBS1','marever1','cocever1','inhever1','cigavail','DEP1','ESTEEM1','VIOL1',\n",
    "'PASSIST','DEVIANT1','SCHCONN1','GPA1','TREG1','FAMCONCT','PARACTV','PARPRES']\n",
    "predictors = data_clean[predictorCats]\n",
    "\n",
    "targets = data_clean.EXPEL1\n",
    "\n",
    "pred_train, pred_test, tar_train, tar_test  = train_test_split(predictors, targets, test_size=.4)\n",
    "\n",
    "pred_train.shape\n",
    "pred_test.shape\n",
    "tar_train.shape\n",
    "tar_test.shape\n",
    "\n",
    "#Build model on training data\n",
    "from sklearn.ensemble import RandomForestClassifier\n",
    "\n",
    "classifier=RandomForestClassifier(n_estimators=25)\n",
    "classifier=classifier.fit(pred_train,tar_train)\n",
    "\n",
    "predictions=classifier.predict(pred_test)\n",
    "\n",
    "sklearn.metrics.confusion_matrix(tar_test,predictions)\n",
    "print(sklearn.metrics.accuracy_score(tar_test, predictions))\n",
    "\n",
    "\n",
    "# fit an Extra Trees model to the data\n",
    "model = ExtraTreesClassifier()\n",
    "model.fit(pred_train,tar_train)\n",
    "# display the relative importance of each attribute\n",
    "predImp = dict(zip(predictorCats, model.feature_importances_))\n",
    "print(predictorCats)\n",
    "print(model.feature_importances_)\n",
    "\n",
    "\n",
    "\"\"\"\n",
    "Running a different number of trees and see the effect\n",
    " of that on the accuracy of the prediction\n",
    "\"\"\"\n",
    "\n",
    "trees=range(25)\n",
    "accuracy=np.zeros(25)\n",
    "\n",
    "for idx in range(len(trees)):\n",
    "   classifier=RandomForestClassifier(n_estimators=idx + 1)\n",
    "   classifier=classifier.fit(pred_train,tar_train)\n",
    "   predictions=classifier.predict(pred_test)\n",
    "   accuracy[idx]=sklearn.metrics.accuracy_score(tar_test, predictions)\n",
    "   \n",
    "plt.cla()\n",
    "plt.plot(range(1,len(trees)+1), accuracy)\n",
    "plt.xlabel('number of trees run')\n",
    "plt.ylabel('predictive accuracy on test data')\n",
    "plt.title('effect of number of estimating decision trees on classification accuracy for expulsion history')\n",
    "predictorCats.sort(key=predImp.get, reverse=True) #This lists the predictors in descending order from most to least important\n",
    "\n",
    "sorted(predImp.values(), reverse=True)\n"
   ]
  },
  {
   "cell_type": "code",
   "execution_count": 41,
   "metadata": {
    "collapsed": false
   },
   "outputs": [
    {
     "data": {
      "text/plain": [
       "['VIOL1',\n",
       " 'DEVIANT1',\n",
       " 'SCHCONN1',\n",
       " 'PARACTV',\n",
       " 'FAMCONCT',\n",
       " 'ESTEEM1',\n",
       " 'DEP1',\n",
       " 'age',\n",
       " 'GPA1',\n",
       " 'PARPRES',\n",
       " 'ALCPROBS1',\n",
       " 'cigavail',\n",
       " 'BIO_SEX',\n",
       " 'marever1',\n",
       " 'TREG1',\n",
       " 'PASSIST',\n",
       " 'ALCEVR1',\n",
       " 'BLACK',\n",
       " 'WHITE',\n",
       " 'HISPANIC',\n",
       " 'NAMERICAN',\n",
       " 'cocever1',\n",
       " 'inhever1',\n",
       " 'ASIAN']"
      ]
     },
     "execution_count": 41,
     "metadata": {},
     "output_type": "execute_result"
    }
   ],
   "source": [
    "predictorCats"
   ]
  },
  {
   "cell_type": "code",
   "execution_count": 46,
   "metadata": {
    "collapsed": false
   },
   "outputs": [
    {
     "data": {
      "image/png": "[encoded data removed]",
      "text/plain": [
       "<matplotlib.figure.Figure at 0x1b5fc1505c0>"
      ]
     },
     "metadata": {},
     "output_type": "display_data"
    }
   ],
   "source": [
    "plt.show()"
   ]
  },
  {
   "cell_type": "code",
   "execution_count": null,
   "metadata": {
    "collapsed": true
   },
   "outputs": [],
   "source": []
  }
 ],
 "metadata": {
  "kernelspec": {
   "display_name": "Python [conda root]",
   "language": "python",
   "name": "conda-root-py"
  },
  "language_info": {
   "codemirror_mode": {
    "name": "ipython",
    "version": 3
   },
   "file_extension": ".py",
   "mimetype": "text/x-python",
   "name": "python",
   "nbconvert_exporter": "python",
   "pygments_lexer": "ipython3",
   "version": "3.5.2"
  }
 },
 "nbformat": 4,
 "nbformat_minor": 1
}
